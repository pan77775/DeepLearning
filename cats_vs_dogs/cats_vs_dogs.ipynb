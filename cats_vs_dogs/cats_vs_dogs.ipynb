{
 "cells": [
  {
   "cell_type": "code",
   "execution_count": 1,
   "metadata": {},
   "outputs": [],
   "source": [
    "# importing libraries\n",
    "import pandas as pd\n",
    "import numpy as np\n",
    "import matplotlib.pyplot as plt\n",
    "import tensorflow as tf\n",
    "import os\n",
    "from tensorflow.keras.preprocessing import image\n",
    "from zipfile import ZipFile "
   ]
  },
  {
   "cell_type": "code",
   "execution_count": 2,
   "metadata": {},
   "outputs": [],
   "source": [
    "# importing libraries for Deep Learning\n",
    "from tensorflow.keras.models import Sequential\n",
    "from tensorflow.keras.layers import Conv2D, MaxPooling2D, Flatten, Dense, Dropout, Activation\n",
    "from tensorflow.keras.preprocessing.image import ImageDataGenerator"
   ]
  },
  {
   "cell_type": "code",
   "execution_count": 9,
   "metadata": {},
   "outputs": [],
   "source": [
    "test_dir=\"D:/programming/kaggle/cats_vs_dogs/dataset/test_set\"\n",
    "train_dir=\"D:/programming/kaggle/cats_vs_dogs/dataset/training_set\"\n",
    "\n",
    "train_dir_cats = train_dir + '/cats'\n",
    "train_dir_dogs = train_dir + '/dogs'\n",
    "test_dir_cats = test_dir + '/cats'\n",
    "test_dir_dogs = test_dir + '/dogs'"
   ]
  },
  {
   "cell_type": "code",
   "execution_count": 10,
   "metadata": {},
   "outputs": [
    {
     "name": "stdout",
     "output_type": "stream",
     "text": [
      "number of cats training images -  4000\n",
      "number of dogs training images -  4000\n",
      "number of cats testing images -  1000\n",
      "number of dogs testing images -  1000\n"
     ]
    }
   ],
   "source": [
    "print('number of cats training images - ',len(os.listdir(train_dir_cats)))\n",
    "print('number of dogs training images - ',len(os.listdir(train_dir_dogs)))\n",
    "print('number of cats testing images - ',len(os.listdir(test_dir_cats)))\n",
    "print('number of dogs testing images - ',len(os.listdir(test_dir_dogs)))"
   ]
  },
  {
   "cell_type": "code",
   "execution_count": 11,
   "metadata": {},
   "outputs": [],
   "source": [
    "data_generator = ImageDataGenerator(rescale = 1.0/255.0, zoom_range = 0.2)"
   ]
  },
  {
   "cell_type": "code",
   "execution_count": 25,
   "metadata": {},
   "outputs": [
    {
     "name": "stdout",
     "output_type": "stream",
     "text": [
      "Found 8000 images belonging to 2 classes.\n",
      "Found 2000 images belonging to 2 classes.\n"
     ]
    }
   ],
   "source": [
    "batch_size = 16\n",
    "training_data = data_generator.flow_from_directory(directory = train_dir,\n",
    "                                                   target_size = (64, 64),\n",
    "                                                   batch_size = batch_size,\n",
    "                                                   class_mode = 'binary')\n",
    "testing_data = data_generator.flow_from_directory(directory = test_dir,\n",
    "                                                  target_size = (64, 64),\n",
    "                                                  batch_size = batch_size,\n",
    "                                                  class_mode = 'binary')"
   ]
  },
  {
   "cell_type": "code",
   "execution_count": 26,
   "metadata": {},
   "outputs": [],
   "source": [
    "# preparing the layers in the Convolutional Deep Neural Network\n",
    "model = Sequential()\n",
    "model.add(Conv2D(32, 3, activation = 'relu', input_shape = training_data.image_shape))\n",
    "model.add(MaxPooling2D(2))\n",
    "model.add(Dropout(rate = 0.2))\n",
    "model.add(Conv2D(64, 3, activation = 'relu'))\n",
    "model.add(MaxPooling2D(2))\n",
    "model.add(Dropout(rate = 0.2))\n",
    "model.add(Conv2D(64, 3, activation = 'relu'))\n",
    "model.add(MaxPooling2D(2))\n",
    "model.add(Dropout(rate = 0.2))\n",
    "model.add(Flatten())\n",
    "model.add(Dense(32, activation = 'relu'))\n",
    "model.add(Dropout(rate = 0.2))\n",
    "model.add(Dense(64, activation = 'relu'))\n",
    "model.add(Dropout(rate = 0.2))\n",
    "model.add(Dense(units = len(set(training_data.classes)), activation = 'softmax'))\n",
    "model.compile(optimizer = 'adam', loss = 'sparse_categorical_crossentropy', metrics = ['accuracy'])"
   ]
  },
  {
   "cell_type": "code",
   "execution_count": 20,
   "metadata": {},
   "outputs": [
    {
     "name": "stdout",
     "output_type": "stream",
     "text": [
      "_________________________________________________________________\n",
      "Layer (type)                 Output Shape              Param #   \n",
      "=================================================================\n",
      "conv2d_6 (Conv2D)            (None, 62, 62, 32)        896       \n",
      "_________________________________________________________________\n",
      "max_pooling2d_6 (MaxPooling2 (None, 31, 31, 32)        0         \n",
      "_________________________________________________________________\n",
      "dropout_10 (Dropout)         (None, 31, 31, 32)        0         \n",
      "_________________________________________________________________\n",
      "conv2d_7 (Conv2D)            (None, 29, 29, 64)        18496     \n",
      "_________________________________________________________________\n",
      "max_pooling2d_7 (MaxPooling2 (None, 14, 14, 64)        0         \n",
      "_________________________________________________________________\n",
      "dropout_11 (Dropout)         (None, 14, 14, 64)        0         \n",
      "_________________________________________________________________\n",
      "conv2d_8 (Conv2D)            (None, 12, 12, 64)        36928     \n",
      "_________________________________________________________________\n",
      "max_pooling2d_8 (MaxPooling2 (None, 6, 6, 64)          0         \n",
      "_________________________________________________________________\n",
      "dropout_12 (Dropout)         (None, 6, 6, 64)          0         \n",
      "_________________________________________________________________\n",
      "flatten_2 (Flatten)          (None, 2304)              0         \n",
      "_________________________________________________________________\n",
      "dense_6 (Dense)              (None, 32)                73760     \n",
      "_________________________________________________________________\n",
      "dropout_13 (Dropout)         (None, 32)                0         \n",
      "_________________________________________________________________\n",
      "dense_7 (Dense)              (None, 64)                2112      \n",
      "_________________________________________________________________\n",
      "dropout_14 (Dropout)         (None, 64)                0         \n",
      "_________________________________________________________________\n",
      "dense_8 (Dense)              (None, 2)                 130       \n",
      "=================================================================\n",
      "Total params: 132,322\n",
      "Trainable params: 132,322\n",
      "Non-trainable params: 0\n",
      "_________________________________________________________________\n"
     ]
    }
   ],
   "source": [
    "model.summary()"
   ]
  },
  {
   "cell_type": "code",
   "execution_count": 27,
   "metadata": {},
   "outputs": [
    {
     "name": "stdout",
     "output_type": "stream",
     "text": [
      "Epoch 1/20\n",
      "125/125 [==============================] - 31s 247ms/step - loss: 0.6850 - acc: 0.5485\n",
      "500/500 [==============================] - 179s 358ms/step - loss: 0.6897 - acc: 0.5389 - val_loss: 0.6850 - val_acc: 0.5485\n",
      "Epoch 2/20\n",
      "125/125 [==============================] - 30s 243ms/step - loss: 0.6439 - acc: 0.6500\n",
      "500/500 [==============================] - 184s 368ms/step - loss: 0.6700 - acc: 0.5838 - val_loss: 0.6439 - val_acc: 0.6500\n",
      "Epoch 3/20\n",
      "125/125 [==============================] - 32s 256ms/step - loss: 0.5924 - acc: 0.6955\n",
      "500/500 [==============================] - 179s 357ms/step - loss: 0.6247 - acc: 0.6488 - val_loss: 0.5924 - val_acc: 0.6955\n",
      "Epoch 4/20\n",
      "125/125 [==============================] - 31s 250ms/step - loss: 0.5904 - acc: 0.6785\n",
      "500/500 [==============================] - 181s 362ms/step - loss: 0.5985 - acc: 0.6790 - val_loss: 0.5904 - val_acc: 0.6785\n",
      "Epoch 5/20\n",
      "125/125 [==============================] - 31s 248ms/step - loss: 0.5530 - acc: 0.7230\n",
      "500/500 [==============================] - 177s 353ms/step - loss: 0.5773 - acc: 0.6965 - val_loss: 0.5530 - val_acc: 0.7230\n",
      "Epoch 6/20\n",
      "125/125 [==============================] - 31s 247ms/step - loss: 0.5822 - acc: 0.6890\n",
      "500/500 [==============================] - 176s 353ms/step - loss: 0.5609 - acc: 0.7139 - val_loss: 0.5822 - val_acc: 0.6890\n",
      "Epoch 7/20\n",
      "125/125 [==============================] - 31s 245ms/step - loss: 0.5396 - acc: 0.7340\n",
      "500/500 [==============================] - 179s 359ms/step - loss: 0.5482 - acc: 0.7209 - val_loss: 0.5396 - val_acc: 0.7340\n",
      "Epoch 8/20\n",
      "125/125 [==============================] - 31s 249ms/step - loss: 0.5400 - acc: 0.7310\n",
      "500/500 [==============================] - 180s 359ms/step - loss: 0.5265 - acc: 0.7416 - val_loss: 0.5400 - val_acc: 0.7310\n",
      "Epoch 9/20\n",
      "125/125 [==============================] - 31s 247ms/step - loss: 0.5200 - acc: 0.7385\n",
      "500/500 [==============================] - 177s 354ms/step - loss: 0.5147 - acc: 0.7477 - val_loss: 0.5200 - val_acc: 0.7385\n",
      "Epoch 10/20\n",
      "125/125 [==============================] - 33s 264ms/step - loss: 0.5266 - acc: 0.7295\n",
      "500/500 [==============================] - 182s 364ms/step - loss: 0.4912 - acc: 0.7630 - val_loss: 0.5266 - val_acc: 0.7295\n",
      "Epoch 11/20\n",
      "125/125 [==============================] - 31s 248ms/step - loss: 0.5096 - acc: 0.7445\n",
      "500/500 [==============================] - 187s 373ms/step - loss: 0.4958 - acc: 0.7600 - val_loss: 0.5096 - val_acc: 0.7445\n",
      "Epoch 12/20\n",
      "125/125 [==============================] - 31s 250ms/step - loss: 0.4680 - acc: 0.7775\n",
      "500/500 [==============================] - 179s 358ms/step - loss: 0.4719 - acc: 0.7740 - val_loss: 0.4680 - val_acc: 0.7775\n",
      "Epoch 13/20\n",
      "125/125 [==============================] - 31s 252ms/step - loss: 0.4624 - acc: 0.7790\n",
      "500/500 [==============================] - 177s 354ms/step - loss: 0.4644 - acc: 0.7807 - val_loss: 0.4624 - val_acc: 0.7790\n",
      "Epoch 14/20\n",
      "125/125 [==============================] - 34s 270ms/step - loss: 0.4860 - acc: 0.7690\n",
      "500/500 [==============================] - 187s 375ms/step - loss: 0.4621 - acc: 0.7816 - val_loss: 0.4860 - val_acc: 0.7690\n",
      "Epoch 15/20\n",
      "125/125 [==============================] - 32s 253ms/step - loss: 0.4703 - acc: 0.7770\n",
      "500/500 [==============================] - 182s 365ms/step - loss: 0.4540 - acc: 0.7879 - val_loss: 0.4703 - val_acc: 0.7770\n",
      "Epoch 16/20\n",
      "125/125 [==============================] - 31s 250ms/step - loss: 0.4503 - acc: 0.8005\n",
      "500/500 [==============================] - 177s 354ms/step - loss: 0.4422 - acc: 0.7944 - val_loss: 0.4503 - val_acc: 0.8005\n",
      "Epoch 17/20\n",
      "125/125 [==============================] - 31s 246ms/step - loss: 0.4691 - acc: 0.7795\n",
      "500/500 [==============================] - 176s 352ms/step - loss: 0.4326 - acc: 0.7965 - val_loss: 0.4691 - val_acc: 0.7795\n",
      "Epoch 18/20\n",
      "125/125 [==============================] - 32s 253ms/step - loss: 0.4400 - acc: 0.8025\n",
      "500/500 [==============================] - 181s 363ms/step - loss: 0.4264 - acc: 0.7997 - val_loss: 0.4400 - val_acc: 0.8025\n",
      "Epoch 19/20\n",
      "125/125 [==============================] - 31s 244ms/step - loss: 0.4407 - acc: 0.7945\n",
      "500/500 [==============================] - 179s 357ms/step - loss: 0.4242 - acc: 0.8029 - val_loss: 0.4407 - val_acc: 0.7945\n",
      "Epoch 20/20\n",
      "125/125 [==============================] - 31s 251ms/step - loss: 0.4924 - acc: 0.7695\n",
      "500/500 [==============================] - 178s 356ms/step - loss: 0.4078 - acc: 0.8115 - val_loss: 0.4924 - val_acc: 0.7695\n"
     ]
    }
   ],
   "source": [
    "fitted_model = model.fit_generator(training_data,\n",
    "                        steps_per_epoch = 2000,\n",
    "                        epochs = 20,\n",
    "                        validation_data = testing_data,\n",
    "                        validation_steps = 1000)"
   ]
  },
  {
   "cell_type": "code",
   "execution_count": 28,
   "metadata": {},
   "outputs": [
    {
     "data": {
      "text/plain": [
       "<matplotlib.legend.Legend at 0x212933951d0>"
      ]
     },
     "execution_count": 28,
     "metadata": {},
     "output_type": "execute_result"
    },
    {
     "data": {
      "image/png": "[encoded data removed]",
      "text/plain": [
       "<Figure size 432x288 with 1 Axes>"
      ]
     },
     "metadata": {
      "needs_background": "light"
     },
     "output_type": "display_data"
    }
   ],
   "source": [
    "# plotting accuracy and validation accuracy\n",
    "accuracy = fitted_model.history['acc']\n",
    "plt.plot(range(len(accuracy)), accuracy, 'bo', label = 'accuracy')\n",
    "plt.legend()"
   ]
  },
  {
   "cell_type": "code",
   "execution_count": 29,
   "metadata": {},
   "outputs": [],
   "source": [
    "# testing the model\n",
    "def testing_image(image_directory):\n",
    "    test_image = image.load_img(image_directory, target_size = (64, 64))\n",
    "    test_image = image.img_to_array(test_image)\n",
    "    test_image = np.expand_dims(test_image, axis = 0)\n",
    "    result = model.predict(x = test_image)\n",
    "    print(result)\n",
    "    if result[0][0]  == 1:\n",
    "        prediction = 'Dog'\n",
    "    else:\n",
    "        prediction = 'Cat'\n",
    "    return prediction"
   ]
  },
  {
   "cell_type": "code",
   "execution_count": 30,
   "metadata": {},
   "outputs": [
    {
     "name": "stdout",
     "output_type": "stream",
     "text": [
      "[[0. 1.]]\n",
      "Cat\n"
     ]
    }
   ],
   "source": [
    "print(testing_image(test_dir + '/cats/cat.4003.jpg'))"
   ]
  },
  {
   "cell_type": "code",
   "execution_count": null,
   "metadata": {},
   "outputs": [],
   "source": []
  }
 ],
 "metadata": {
  "kernelspec": {
   "display_name": "Python 3",
   "language": "python",
   "name": "python3"
  },
  "language_info": {
   "codemirror_mode": {
    "name": "ipython",
    "version": 3
   },
   "file_extension": ".py",
   "mimetype": "text/x-python",
   "name": "python",
   "nbconvert_exporter": "python",
   "pygments_lexer": "ipython3",
   "version": "3.7.1"
  }
 },
 "nbformat": 4,
 "nbformat_minor": 2
}
